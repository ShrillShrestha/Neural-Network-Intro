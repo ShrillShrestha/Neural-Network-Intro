{
 "cells": [
  {
   "cell_type": "code",
   "execution_count": 1,
   "metadata": {},
   "outputs": [],
   "source": [
    "import numpy as np\n",
    "import matplotlib.pyplot as plt "
   ]
  },
  {
   "cell_type": "code",
   "execution_count": 2,
   "metadata": {},
   "outputs": [],
   "source": [
    "def create_distance_function(a, b, c):\n",
    "    \"\"\" 0 = ax + by + c \"\"\"\n",
    "    def distance(x, y):\n",
    "        \"\"\" returns tuple (d, pos)\n",
    "            d is the distance\n",
    "            If pos == -1 point is below the line, \n",
    "            0 on the line and +1 if above the line\n",
    "        \"\"\"\n",
    "        nom = a * x + b * y + c\n",
    "        if nom == 0:\n",
    "            pos = 0\n",
    "        elif (nom<0 and b<0) or (nom>0 and b>0):\n",
    "            pos = -1\n",
    "        else:\n",
    "            pos = 1\n",
    "        return (np.absolute(nom) / np.sqrt( a ** 2 + b ** 2), pos)  # distance from the line to point\n",
    "    return distance"
   ]
  },
  {
   "cell_type": "code",
   "execution_count": 3,
   "metadata": {},
   "outputs": [
    {
     "ename": "IndexError",
     "evalue": "list index out of range",
     "output_type": "error",
     "traceback": [
      "\u001b[0;31m---------------------------------------------------------------------------\u001b[0m",
      "\u001b[0;31mIndexError\u001b[0m                                Traceback (most recent call last)",
      "\u001b[0;32m<ipython-input-3-75b96e346719>\u001b[0m in \u001b[0;36m<module>\u001b[0;34m\u001b[0m\n\u001b[1;32m     31\u001b[0m         \u001b[0mresults\u001b[0m\u001b[0;34m.\u001b[0m\u001b[0mappend\u001b[0m\u001b[0;34m(\u001b[0m\u001b[0mdist4line1\u001b[0m\u001b[0;34m(\u001b[0m\u001b[0;34m*\u001b[0m\u001b[0mpoint\u001b[0m\u001b[0;34m)\u001b[0m\u001b[0;34m)\u001b[0m\u001b[0;34m\u001b[0m\u001b[0;34m\u001b[0m\u001b[0m\n\u001b[1;32m     32\u001b[0m         \u001b[0;31m#print(slope, results)\u001b[0m\u001b[0;34m\u001b[0m\u001b[0;34m\u001b[0m\u001b[0;34m\u001b[0m\u001b[0m\n\u001b[0;32m---> 33\u001b[0;31m         \u001b[0;32mif\u001b[0m \u001b[0;34m(\u001b[0m\u001b[0mresults\u001b[0m\u001b[0;34m[\u001b[0m\u001b[0;36m0\u001b[0m\u001b[0;34m]\u001b[0m\u001b[0;34m[\u001b[0m\u001b[0;36m1\u001b[0m\u001b[0;34m]\u001b[0m \u001b[0;34m!=\u001b[0m \u001b[0mresults\u001b[0m\u001b[0;34m[\u001b[0m\u001b[0;36m1\u001b[0m\u001b[0;34m]\u001b[0m\u001b[0;34m[\u001b[0m\u001b[0;36m1\u001b[0m\u001b[0;34m]\u001b[0m\u001b[0;34m)\u001b[0m\u001b[0;34m:\u001b[0m  \u001b[0;31m# if lines lines in between color green else red\u001b[0m\u001b[0;34m\u001b[0m\u001b[0;34m\u001b[0m\u001b[0m\n\u001b[0m\u001b[1;32m     34\u001b[0m             \u001b[0max\u001b[0m\u001b[0;34m.\u001b[0m\u001b[0mplot\u001b[0m\u001b[0;34m(\u001b[0m\u001b[0mX\u001b[0m\u001b[0;34m,\u001b[0m \u001b[0mY\u001b[0m\u001b[0;34m,\u001b[0m \u001b[0;34m\"g-\"\u001b[0m\u001b[0;34m)\u001b[0m\u001b[0;34m\u001b[0m\u001b[0;34m\u001b[0m\u001b[0m\n\u001b[1;32m     35\u001b[0m         \u001b[0;32melse\u001b[0m\u001b[0;34m:\u001b[0m\u001b[0;34m\u001b[0m\u001b[0;34m\u001b[0m\u001b[0m\n",
      "\u001b[0;31mIndexError\u001b[0m: list index out of range"
     ]
    },
    {
     "data": {
      "image/png": "[encoded data removed]",
      "text/plain": [
       "<Figure size 432x288 with 1 Axes>"
      ]
     },
     "metadata": {
      "needs_background": "light"
     },
     "output_type": "display_data"
    }
   ],
   "source": [
    "points = [ (3.5, 1.8), (1.1, 3.9) ]\n",
    "\n",
    "fig, ax = plt.subplots()\n",
    "ax.set_xlabel(\"sweetness\")\n",
    "ax.set_ylabel(\"sourness\")\n",
    "ax.set_xlim([-1, 6])\n",
    "ax.set_ylim([-1, 8])\n",
    "X = np.arange(-0.5, 5, 0.1)  # generate 55 X-coordinates with difference of 0.1 between two coordinates\n",
    "\n",
    "colors = [\"r\", \"\"] # for the samples\n",
    "\n",
    "size = 10\n",
    "for (index, (x, y)) in enumerate(points):  # plots points in the graph\n",
    "    if index== 0:  # first point\n",
    "        ax.plot(x, y, \"o\", \n",
    "                color=\"darkorange\", \n",
    "                markersize=size)\n",
    "    else:  # second point\n",
    "        ax.plot(x, y, \"oy\", \n",
    "                markersize=size)\n",
    "\n",
    "step = 0.05 # \n",
    "for x in np.arange(0, 1+step, step): # generate 21 slope values = 21 lines to plot\n",
    "    slope = np.tan(np.arccos(x))\n",
    "    dist4line1 = create_distance_function(slope, -1, 0)\n",
    "    #print(\"x: \", x, \"slope: \", slope)\n",
    "    Y = slope * X  # Y coordinates for a line of a particular slope : total 50 points \n",
    "    \n",
    "    results = []\n",
    "    for point in points:  # points position to the generated lines\n",
    "        results.append(dist4line1(*point))\n",
    "        #print(slope, results)\n",
    "    if (results[0][1] != results[1][1]):  # if lines lines in between color green else red\n",
    "        ax.plot(X, Y, \"g-\")\n",
    "    else:\n",
    "        ax.plot(X, Y, \"r-\")\n",
    "        \n",
    "\n",
    "plt.show()"
   ]
  },
  {
   "cell_type": "code",
   "execution_count": null,
   "metadata": {},
   "outputs": [],
   "source": [
    "class Perceptron:\n",
    "    \n",
    "    def __init__(self, input_length, weights=None):\n",
    "        if weights is None:\n",
    "            self.weights = np.ones(input_length) * 0.5\n",
    "        else:\n",
    "            self.weights = weights\n",
    "        \n",
    "    @staticmethod\n",
    "    def unit_step_function(x):\n",
    "        if x > 0.5:\n",
    "            return 1\n",
    "        return 0\n",
    "        \n",
    "    def __call__(self, in_data):\n",
    "        weighted_input = self.weights * in_data\n",
    "        weighted_sum = weighted_input.sum()\n",
    "        return Perceptron.unit_step_function(weighted_sum)"
   ]
  },
  {
   "cell_type": "code",
   "execution_count": null,
   "metadata": {},
   "outputs": [],
   "source": [
    "p = Perceptron(2, np.array([0.5, 0.5]))\n",
    "\n",
    "data_in = np.empty((2,))\n",
    "for in1 in range(2):\n",
    "    for in2 in range(2):\n",
    "        data_in = (in1, in2)\n",
    "        data_out = p(data_in)\n",
    "        print(data_in, data_out)"
   ]
  },
  {
   "cell_type": "code",
   "execution_count": null,
   "metadata": {},
   "outputs": [],
   "source": []
  },
  {
   "cell_type": "code",
   "execution_count": null,
   "metadata": {},
   "outputs": [],
   "source": []
  }
 ],
 "metadata": {
  "kernelspec": {
   "display_name": "Python 3",
   "language": "python",
   "name": "python3"
  },
  "language_info": {
   "codemirror_mode": {
    "name": "ipython",
    "version": 3
   },
   "file_extension": ".py",
   "mimetype": "text/x-python",
   "name": "python",
   "nbconvert_exporter": "python",
   "pygments_lexer": "ipython3",
   "version": "3.7.6"
  }
 },
 "nbformat": 4,
 "nbformat_minor": 4
}
