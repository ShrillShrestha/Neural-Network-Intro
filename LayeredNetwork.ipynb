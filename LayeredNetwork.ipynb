{
 "cells": [
  {
   "cell_type": "code",
   "execution_count": 1,
   "metadata": {},
   "outputs": [],
   "source": [
    "import numpy as np"
   ]
  },
  {
   "cell_type": "code",
   "execution_count": 2,
   "metadata": {},
   "outputs": [
    {
     "name": "stdout",
     "output_type": "stream",
     "text": [
      "[ 2  4 11]\n"
     ]
    }
   ],
   "source": [
    "input_vector = np.array([2,4,11])  # input layer consist of three nodes\n",
    "print(input_vector)"
   ]
  },
  {
   "cell_type": "code",
   "execution_count": 3,
   "metadata": {
    "scrolled": true
   },
   "outputs": [
    {
     "name": "stdout",
     "output_type": "stream",
     "text": [
      "The input vector:\n",
      " [[ 2]\n",
      " [ 4]\n",
      " [11]]\n",
      "The shape of this vector:  (3, 1)\n"
     ]
    }
   ],
   "source": [
    "input_vector = np.array(input_vector, ndmin=2).T  #changing into column vector - .T means transpose of a matrix\n",
    "print(\"The input vector:\\n\", input_vector)\n",
    "\n",
    "print(\"The shape of this vector: \", input_vector.shape)"
   ]
  },
  {
   "cell_type": "code",
   "execution_count": null,
   "metadata": {},
   "outputs": [],
   "source": []
  }
 ],
 "metadata": {
  "kernelspec": {
   "display_name": "Python 3",
   "language": "python",
   "name": "python3"
  },
  "language_info": {
   "codemirror_mode": {
    "name": "ipython",
    "version": 3
   },
   "file_extension": ".py",
   "mimetype": "text/x-python",
   "name": "python",
   "nbconvert_exporter": "python",
   "pygments_lexer": "ipython3",
   "version": "3.7.6"
  }
 },
 "nbformat": 4,
 "nbformat_minor": 4
}
